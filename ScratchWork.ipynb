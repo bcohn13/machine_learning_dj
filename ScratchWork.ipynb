{
 "cells": [
  {
   "cell_type": "code",
   "execution_count": null,
   "id": "ab1fe7ac",
   "metadata": {},
   "outputs": [],
   "source": [
    "import pandas as pd\n",
    "import numpy as np\n",
    "from datetime import datetime\n",
    "from sklearn.model_selection import train_test_split   \n",
    "#from sklearn.neighbors import KNeighborsClassifier\n",
    "from sklearn.linear_model import LinearRegression\n",
    "from sklearn.metrics import explained_variance_score\n",
    "from sklearn.ensemble import RandomForestRegressor\n",
    " "
   ]
  },
  {
   "cell_type": "code",
   "execution_count": null,
   "id": "b5810f0d",
   "metadata": {},
   "outputs": [],
   "source": [
    "df=pd.read_csv(\"tracks.csv\")"
   ]
  },
  {
   "cell_type": "code",
   "execution_count": null,
   "id": "c47e0df2",
   "metadata": {},
   "outputs": [],
   "source": [
    "df=df.drop(columns=[\"artists\",\"id\",\"id_artists\"])"
   ]
  },
  {
   "cell_type": "code",
   "execution_count": null,
   "id": "f9b06778",
   "metadata": {},
   "outputs": [],
   "source": [
    "df=df.dropna(how=\"all\")"
   ]
  },
  {
   "cell_type": "code",
   "execution_count": null,
   "id": "d4697f81",
   "metadata": {},
   "outputs": [],
   "source": [
    "df[\"release_date\"]=[date.split(\"-\")[0] for date in df[\"release_date\"].astype(\"str\")]"
   ]
  },
  {
   "cell_type": "code",
   "execution_count": null,
   "id": "167b28af",
   "metadata": {},
   "outputs": [],
   "source": [
    "for i in df[\"release_date\"].unique():\n",
    "    print(i)"
   ]
  },
  {
   "cell_type": "code",
   "execution_count": null,
   "id": "6b983c4b",
   "metadata": {},
   "outputs": [],
   "source": [
    "df[\"release_date\"]=[datetime.strptime(date, \"%Y\") for date in df[\"release_date\"]]\n",
    "df[\"release_date\"]=[date.toordinal() for date in df[\"release_date\"]]"
   ]
  },
  {
   "cell_type": "code",
   "execution_count": null,
   "id": "db139b28",
   "metadata": {},
   "outputs": [],
   "source": [
    "for date in df[\"release_date\"]:\n",
    "    print(date)"
   ]
  },
  {
   "cell_type": "code",
   "execution_count": null,
   "id": "ba23b38a",
   "metadata": {},
   "outputs": [],
   "source": [
    "df"
   ]
  },
  {
   "cell_type": "code",
   "execution_count": null,
   "id": "1eb3500a",
   "metadata": {},
   "outputs": [],
   "source": [
    "def make_train_test_sets(x,y):\n",
    "    X_train, X_test, y_train, y_test = train_test_split(x, y, test_size=0.33, random_state=42)\n",
    "    return X_train, X_test, y_train, y_test"
   ]
  },
  {
   "cell_type": "code",
   "execution_count": null,
   "id": "47be25c7",
   "metadata": {
    "scrolled": true
   },
   "outputs": [],
   "source": [
    "df.loc[:,df.columns!=\"popularity\"]"
   ]
  },
  {
   "cell_type": "code",
   "execution_count": null,
   "id": "b2771b5f",
   "metadata": {},
   "outputs": [],
   "source": [
    "df.loc[:,~df.columns.isin([\"popularity\",\"name\"])]"
   ]
  },
  {
   "cell_type": "code",
   "execution_count": null,
   "id": "19c6187f",
   "metadata": {},
   "outputs": [],
   "source": [
    "test_sets=make_train_test_sets(df.loc[:,~df.columns.isin([\"popularity\",\"name\"])],df[\"popularity\"])\n",
    "x_train=test_sets[0]\n",
    "y_train=test_sets[2]\n",
    "x_test=test_sets[1]\n",
    "y_test=test_sets[3]"
   ]
  },
  {
   "cell_type": "code",
   "execution_count": null,
   "id": "f675dc1d",
   "metadata": {},
   "outputs": [],
   "source": [
    "df.dtypes"
   ]
  },
  {
   "cell_type": "code",
   "execution_count": null,
   "id": "af1f94dc",
   "metadata": {},
   "outputs": [],
   "source": [
    "lr = LinearRegression().fit(x_train, y_train)\n",
    "rf= RandomForestRegressor().fit(x_train,y_train)"
   ]
  },
  {
   "cell_type": "code",
   "execution_count": null,
   "id": "9736c5de",
   "metadata": {},
   "outputs": [],
   "source": [
    "lr_prediction=lr.predict(x_test)\n",
    "rf_prediction=rf.predict(x_test)"
   ]
  },
  {
   "cell_type": "code",
   "execution_count": null,
   "id": "8c50a238",
   "metadata": {},
   "outputs": [],
   "source": [
    "print(explained_variance_score(y_test,lr_prediction))"
   ]
  },
  {
   "cell_type": "code",
   "execution_count": null,
   "id": "7c6ae5c2",
   "metadata": {},
   "outputs": [],
   "source": [
    "print(explained_variance_score(y_test,rf_prediction))"
   ]
  },
  {
   "cell_type": "code",
   "execution_count": null,
   "id": "33603da6",
   "metadata": {},
   "outputs": [],
   "source": [
    "print(prediction)"
   ]
  },
  {
   "cell_type": "code",
   "execution_count": null,
   "id": "c8d7069e",
   "metadata": {},
   "outputs": [],
   "source": [
    "df"
   ]
  },
  {
   "cell_type": "code",
   "execution_count": null,
   "id": "316607d2",
   "metadata": {},
   "outputs": [],
   "source": []
  }
 ],
 "metadata": {
  "kernelspec": {
   "display_name": "Python 3 (ipykernel)",
   "language": "python",
   "name": "python3"
  },
  "language_info": {
   "codemirror_mode": {
    "name": "ipython",
    "version": 3
   },
   "file_extension": ".py",
   "mimetype": "text/x-python",
   "name": "python",
   "nbconvert_exporter": "python",
   "pygments_lexer": "ipython3",
   "version": "3.8.8"
  }
 },
 "nbformat": 4,
 "nbformat_minor": 5
}
